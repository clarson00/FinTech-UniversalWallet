{
 "cells": [
  {
   "cell_type": "code",
   "execution_count": 2,
   "metadata": {},
   "outputs": [
    {
     "ename": "ModuleNotFoundError",
     "evalue": "No module named 'dotenv'",
     "output_type": "error",
     "traceback": [
      "\u001b[1;31m---------------------------------------------------------------------------\u001b[0m",
      "\u001b[1;31mModuleNotFoundError\u001b[0m                       Traceback (most recent call last)",
      "\u001b[1;32m<ipython-input-2-5921f1fdf1cc>\u001b[0m in \u001b[0;36m<module>\u001b[1;34m\u001b[0m\n\u001b[0;32m      5\u001b[0m \u001b[1;32mimport\u001b[0m \u001b[0mos\u001b[0m\u001b[1;33m\u001b[0m\u001b[1;33m\u001b[0m\u001b[0m\n\u001b[0;32m      6\u001b[0m \u001b[1;32mfrom\u001b[0m \u001b[0mconstants\u001b[0m \u001b[1;32mimport\u001b[0m \u001b[1;33m*\u001b[0m\u001b[1;33m\u001b[0m\u001b[1;33m\u001b[0m\u001b[0m\n\u001b[1;32m----> 7\u001b[1;33m \u001b[1;32mimport\u001b[0m \u001b[0mdotenv\u001b[0m\u001b[1;33m\u001b[0m\u001b[1;33m\u001b[0m\u001b[0m\n\u001b[0m\u001b[0;32m      8\u001b[0m \u001b[1;32mfrom\u001b[0m \u001b[0mdotenv\u001b[0m \u001b[1;32mimport\u001b[0m \u001b[0mload_dotenv\u001b[0m\u001b[1;33m\u001b[0m\u001b[1;33m\u001b[0m\u001b[0m\n\u001b[0;32m      9\u001b[0m \u001b[1;33m\u001b[0m\u001b[0m\n",
      "\u001b[1;31mModuleNotFoundError\u001b[0m: No module named 'dotenv'"
     ]
    }
   ],
   "source": [
    "# Initial import of libraries\n",
    "import subprocess\n",
    "import json\n",
    "\n",
    "import os\n",
    "from constants import *\n",
    "import dotenv\n",
    "from dotenv import load_dotenv\n",
    "\n",
    "from web3 import Web3, IPCProvider\n",
    "from eth_account import Account\n",
    "from bit import wif_to_key, PrivateKeyTestnet\n",
    "from bit.network import NetworkAPI\n",
    "from getpass import getpass\n",
    "from web3.auto.gethdev import w3\n",
    "from web3.middleware import geth_poa_middleware\n",
    "from web3.gas_strategies.time_based import medium_gas_price_strategy\n",
    "\n",
    "load_dotenv()"
   ]
  },
  {
   "cell_type": "code",
   "execution_count": null,
   "metadata": {},
   "outputs": [],
   "source": [
    "# Importing mnemonic from .env\n",
    "mnemonic = os.getenv('MNEMONIC')\n",
    "type(mnemonic)"
   ]
  },
  {
   "cell_type": "code",
   "execution_count": null,
   "metadata": {},
   "outputs": [],
   "source": [
    "# Define a function for derive_wallets\n",
    "def derive_wallets(mnemonic, coin, numderive):\n",
    "    command = f'php ./derive -g --mnemonic=\"{mnemonic}\" --cols=path,address,privkey,pubkey,pubkeyhash,xprv,xpub --coin=\"{coin}\" --numderive=\"{numderive}\" --format=json'\n",
    "    p = subprocess.Popen(command, stdout=subprocess.PIPE, shell=True)\n",
    "    (output, err) = p.communicate()\n",
    "    p_status = p.wait()\n",
    "    keys = json.loads(output)\n",
    "    return keys"
   ]
  },
  {
   "cell_type": "code",
   "execution_count": null,
   "metadata": {},
   "outputs": [],
   "source": [
    "# testing derive_wallets function output\n",
    "derive_wallets(mnemonic, ETH, 3)"
   ]
  },
  {
   "cell_type": "code",
   "execution_count": null,
   "metadata": {},
   "outputs": [],
   "source": [
    "# Create an object called \"coins\" and define function to call derive_wallets function for BTCTEST and ETH currencies and output a dictionary\n",
    "# with derived information for three accounts per coin\n",
    "def coins():\n",
    "\n",
    "    coin_dict = {\n",
    "        'btc-test' : derive_wallets(mnemonic, BTCTEST, 3),\n",
    "        'eth' : derive_wallets(mnemonic, ETH, 3)\n",
    "    }\n",
    "    \n",
    "    return coin_dict"
   ]
  },
  {
   "cell_type": "code",
   "execution_count": null,
   "metadata": {},
   "outputs": [],
   "source": [
    "# testing derive_wallets function output\n",
    "coins()"
   ]
  },
  {
   "cell_type": "code",
   "execution_count": null,
   "metadata": {},
   "outputs": [],
   "source": [
    "# Test a call of a private key from the \"coins\" dictionary output\n",
    "coins()[ETH][0]['privkey']"
   ]
  },
  {
   "cell_type": "code",
   "execution_count": null,
   "metadata": {},
   "outputs": [],
   "source": [
    "# Define a function that will convert the privkey string in a child key to an account object\n",
    "def priv_key_to_account(coin, priv_key):\n",
    "    if coin == ETH:\n",
    "        return Account.privateKeyToAccount(priv_key)\n",
    "    elif coin == BTCTEST:\n",
    "        return PrivateKeyTestnet(priv_key)"
   ]
  },
  {
   "cell_type": "code",
   "execution_count": null,
   "metadata": {},
   "outputs": [],
   "source": [
    "# Test priv_key_to_account function\n",
    "priv_key_to_account(ETH, derive_wallets(mnemonic, ETH, 3)[0]['privkey'])"
   ]
  },
  {
   "cell_type": "code",
   "execution_count": null,
   "metadata": {},
   "outputs": [],
   "source": [
    "# Setting Ethereum Account to a variable\n",
    "eth_acc = priv_key_to_account(ETH, derive_wallets(mnemonic, ETH, 5)[0]['privkey'])\n",
    "eth_acc"
   ]
  },
  {
   "cell_type": "code",
   "execution_count": null,
   "metadata": {},
   "outputs": [],
   "source": [
    "# Setting Bitcoin TestNet Account to a variable\n",
    "btc_acc = priv_key_to_account(BTCTEST, derive_wallets(mnemonic, BTCTEST, 5)[0]['privkey'])\n",
    "btc_acc"
   ]
  },
  {
   "cell_type": "code",
   "execution_count": null,
   "metadata": {},
   "outputs": [],
   "source": [
    "# Define a function to create a raw, unsigned transaction\n",
    "def create_tx(coin, account, recipient, amount):\n",
    "    if coin == ETH:\n",
    "        gasEstimate = w3.eth.estimateGas({\"from\": eth_acc.address, \"to\": recipient, \"value\": w3.toWei(amount,'ether')})\n",
    "        return {\n",
    "            \"from\": eth_acc.address,\n",
    "            \"to\": recipient,\n",
    "            \"value\": w3.toWei(amount,'ether'),\n",
    "            \"gasPrice\": w3.eth.gasPrice,\n",
    "            \"gas\": gasEstimate,\n",
    "            \"nonce\": w3.eth.getTransactionCount(eth_acc.address)\n",
    "        }\n",
    "    \n",
    "    elif coin == BTCTEST:\n",
    "        return PrivateKeyTestnet.prepare_transaction(btc_acc.address, [(recipient, amount, BTC)])"
   ]
  },
  {
   "cell_type": "code",
   "execution_count": null,
   "metadata": {},
   "outputs": [],
   "source": [
    "# Define a function to sign the transaction and send it to the designated network\n",
    "def send_tx(coin, account, recipient, amount):\n",
    "    txn = create_tx(coin, account, recipient, amount)\n",
    "    \n",
    "    if coin == ETH:\n",
    "        signed_txn = eth_acc.sign_transaction(txn)\n",
    "        result = w3.eth.sendRawTransaction(signed_txn.rawTransaction)\n",
    "        return result\n",
    "    elif coin == BTCTEST:\n",
    "        signed_txn = btc_acc.sign_transaction(txn)\n",
    "        result = NetworkAPI.broadcast_tx_testnet(signed_txn)\n",
    "        return result"
   ]
  },
  {
   "cell_type": "markdown",
   "metadata": {},
   "source": [
    "# Checking BTCTEST balances after funding with faucet"
   ]
  },
  {
   "cell_type": "code",
   "execution_count": null,
   "metadata": {},
   "outputs": [],
   "source": [
    "# Test bip - Sender get_balance\n",
    "btctest_key_sender = wif_to_key(\"cPp41BTVx1v8yTSS8sYgNGvu6xJ3Nmj2gWi5WSV9cMjVVjNn4QCD\")\n",
    "btctest_key_sender.get_balance('btc')"
   ]
  },
  {
   "cell_type": "code",
   "execution_count": null,
   "metadata": {},
   "outputs": [],
   "source": [
    "# Test bip - Receiver get_balance\n",
    "btctest_key_recipient = wif_to_key(\"cNyLMfaVkeSTnZET2AHWJTNNazKyz4kGHanksveZM7coi17xitEG\")\n",
    "btctest_key_recipient.get_balance('btc')"
   ]
  },
  {
   "cell_type": "code",
   "execution_count": null,
   "metadata": {},
   "outputs": [],
   "source": [
    "# setting sender BTCTEST account\n",
    "btctest_account = priv_key_to_account(BTCTEST,coins()[BTCTEST][0]['privkey'])\n",
    "print(btctest_account)"
   ]
  },
  {
   "cell_type": "code",
   "execution_count": null,
   "metadata": {},
   "outputs": [],
   "source": [
    "# setting a receiver BTCTEST address\n",
    "btctest_recipient = coins()[BTCTEST][1]['address']\n",
    "print(btctest_recipient)"
   ]
  },
  {
   "cell_type": "markdown",
   "metadata": {},
   "source": [
    "# Creating and Sending BTCTEST transactions"
   ]
  },
  {
   "cell_type": "code",
   "execution_count": null,
   "metadata": {},
   "outputs": [],
   "source": [
    "# Create BTCTEST transaction\n",
    "create_tx(BTCTEST, btctest_account, btctest_recipient, 0.00000001)"
   ]
  },
  {
   "cell_type": "code",
   "execution_count": null,
   "metadata": {},
   "outputs": [],
   "source": [
    "# Send BTCTEST transaction\n",
    "send_tx(BTCTEST, btctest_account, btctest_recipient, 0.00000001)"
   ]
  },
  {
   "cell_type": "markdown",
   "metadata": {},
   "source": [
    "# ETH Setting Connections to My POA ethtest blockchain"
   ]
  },
  {
   "cell_type": "code",
   "execution_count": null,
   "metadata": {},
   "outputs": [],
   "source": [
    "# setting up Web3 port\n",
    "w3 = Web3(Web3.HTTPProvider(\"http://127.0.0.1:8545\"))"
   ]
  },
  {
   "cell_type": "code",
   "execution_count": null,
   "metadata": {},
   "outputs": [],
   "source": [
    "# Adding in middleware\n",
    "w3.middleware_onion.inject(geth_poa_middleware, layer=0)"
   ]
  },
  {
   "cell_type": "markdown",
   "metadata": {},
   "source": [
    "# ETH Checking Balances"
   ]
  },
  {
   "cell_type": "code",
   "execution_count": null,
   "metadata": {},
   "outputs": [],
   "source": [
    "# Get ETH node 1 balance\n",
    "node1_balance = w3.eth.getBalance(\"0xA3b1D0D8Ae8E6258f77c82c2d9ca9B3fdFCc5424\")\n",
    "node1_balance"
   ]
  },
  {
   "cell_type": "code",
   "execution_count": null,
   "metadata": {},
   "outputs": [],
   "source": [
    "# Get ETH node 2 balance\n",
    "node2_balance = w3.eth.getBalance(\"0x79d8c1A5fE3Af5c33e2ec90BF6fF8F0301ce0d3b\")\n",
    "node2_balance"
   ]
  },
  {
   "cell_type": "markdown",
   "metadata": {},
   "source": [
    "# ETH Creating and Sending Transactions"
   ]
  },
  {
   "cell_type": "code",
   "execution_count": null,
   "metadata": {},
   "outputs": [],
   "source": [
    "# Create ETH Transaction\n",
    "create_tx(ETH, eth_acc, \"0xA3b1D0D8Ae8E6258f77c82c2d9ca9B3fdFCc5424\", 1000)"
   ]
  },
  {
   "cell_type": "code",
   "execution_count": null,
   "metadata": {},
   "outputs": [],
   "source": [
    "send_tx(ETH, eth_acc, \"0xA3b1D0D8Ae8E6258f77c82c2d9ca9B3fdFCc5424\", 1000)"
   ]
  },
  {
   "cell_type": "code",
   "execution_count": null,
   "metadata": {},
   "outputs": [],
   "source": [
    "block = w3.eth.get_block('latest')\n",
    "block"
   ]
  },
  {
   "cell_type": "code",
   "execution_count": null,
   "metadata": {},
   "outputs": [],
   "source": [
    "block['number']"
   ]
  },
  {
   "cell_type": "code",
   "execution_count": null,
   "metadata": {},
   "outputs": [],
   "source": []
  }
 ],
 "metadata": {
  "kernelspec": {
   "display_name": "Python 3",
   "language": "python",
   "name": "python3"
  },
  "language_info": {
   "codemirror_mode": {
    "name": "ipython",
    "version": 3
   },
   "file_extension": ".py",
   "mimetype": "text/x-python",
   "name": "python",
   "nbconvert_exporter": "python",
   "pygments_lexer": "ipython3",
   "version": "3.8.3"
  }
 },
 "nbformat": 4,
 "nbformat_minor": 4
}
